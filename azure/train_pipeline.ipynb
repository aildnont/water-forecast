{
 "cells": [
  {
   "cell_type": "markdown",
   "metadata": {},
   "source": [
    "# Azure ML Training Pipeline for Water Demand Forecasting\n",
    "This notebook defines an Azure machine learning pipeline for a single training experiment and submits the pipeline as an experiment to be run on an Azure virtual machine. It then publishes the pipeline in the workspace."
   ]
  },
  {
   "cell_type": "code",
   "execution_count": null,
   "metadata": {
    "gather": {
     "logged": 1689770909543
    },
    "tags": []
   },
   "outputs": [],
   "source": [
    "# Import statements\n",
    "import azureml.core\n",
    "from azureml.core import Experiment\n",
    "from azureml.core import Workspace, Datastore\n",
    "from azureml.data.data_reference import DataReference\n",
    "from azureml.pipeline.core import PipelineData\n",
    "from azureml.pipeline.core import Pipeline\n",
    "from azureml.pipeline.steps import PythonScriptStep\n",
    "from azureml.core.compute import ComputeTarget, AmlCompute\n",
    "from azureml.core.compute_target import ComputeTargetException\n",
    "from azureml.core.environment import Environment\n",
    "from azureml.core.runconfig import RunConfiguration\n",
    "import shutil\n",
    "import datetime"
   ]
  },
  {
   "cell_type": "markdown",
   "metadata": {},
   "source": [
    "### Register the workspace and configure its Python environment."
   ]
  },
  {
   "cell_type": "code",
   "execution_count": null,
   "metadata": {
    "gather": {
     "logged": 1689770912877
    },
    "tags": []
   },
   "outputs": [],
   "source": [
    "# Get reference to the workspace\n",
    "ws = Workspace.from_config(\"./ws_config.json\")\n",
    "\n",
    "# Set workspace's environment\n",
    "env = Environment.from_pip_requirements(name = \"Water_env\", file_path = \"./../requirements.txt\")\n",
    "env.python.conda_dependencies.add_pip_package(\"azureml-core\")\n",
    "env.python.conda_dependencies.add_pip_package(\"sendgrid\")\n",
    "env.register(workspace=ws)\n",
    "runconfig = RunConfiguration(conda_dependencies=env.python.conda_dependencies)\n",
    "print(env.python.conda_dependencies.serialize_to_string())\n",
    "\n",
    "# Move AML ignore file to root folder\n",
    "aml_ignore_path = shutil.copy('./.amlignore', './../.amlignore') \n",
    "gitignore_path = shutil.copy('./../.gitignore', './.gitignore') "
   ]
  },
  {
   "cell_type": "markdown",
   "metadata": {},
   "source": [
    "### Create references to persistent and intermediate data\n",
    "Create DataReference objects that point to our data on the blob."
   ]
  },
  {
   "cell_type": "code",
   "execution_count": null,
   "metadata": {
    "tags": []
   },
   "outputs": [],
   "source": [
    "# Get the blob datastores associated with this workspace\n",
    "water_blob_ds = Datastore(ws, name='water_forecast_ds') \n",
    "\n",
    "# Create data references to folders on the blobs\n",
    "new_raw_data_dr = DataReference(\n",
    "    datastore=water_blob_ds,\n",
    "    data_reference_name=\"new_raw_data_files\",\n",
    "    path_on_datastore=\"raw_data/quarterly/\")\n",
    "inter_raw_datasets_dr = DataReference(\n",
    "    datastore=water_blob_ds,\n",
    "    data_reference_name=\"intermediate_raw_datasets\",\n",
    "    path_on_datastore=\"raw_data/intermediate/\")\n",
    "merged_raw_datasets_dr = DataReference(\n",
    "    datastore=water_blob_ds,\n",
    "    data_reference_name=\"merged_raw_dataset\",\n",
    "    path_on_datastore=\"raw_data/full_raw_data.csv\")\n",
    "preprocessed_data_dr = DataReference(\n",
    "    datastore=water_blob_ds,\n",
    "    data_reference_name=\"preprocessed_datasets\",\n",
    "    path_on_datastore=\"preprocessed_data/\")\n",
    "outputs_dr = DataReference(\n",
    "    datastore=water_blob_ds,\n",
    "    data_reference_name=\"outputs\",\n",
    "    path_on_datastore=\"outputs/\")\n",
    "\n",
    "# Set up references to pipeline data (intermediate pipeline storage)\n",
    "preprocessed_data_pd = PipelineData(\n",
    "    \"preprocessed_output\",\n",
    "    datastore=water_blob_ds,\n",
    "    output_name=\"preprocessed_datasets\",\n",
    "    output_mode=\"mount\")"
   ]
  },
  {
   "cell_type": "markdown",
   "metadata": {},
   "source": [
    "### Compute Target\n",
    "Specify and configure the compute target for this workspace. If a compute cluster by the name we specified does not exist, create a new compute cluster."
   ]
  },
  {
   "cell_type": "code",
   "execution_count": null,
   "metadata": {
    "tags": []
   },
   "outputs": [],
   "source": [
    "# Define some constants\n",
    "CT_NAME = \"d16v3-train\"          # Name of our compute cluster\n",
    "VM_SIZE = \"STANDARD_D16_V3\"      # Specify the Azure VM for execution of our pipeline\n",
    "MIN_NODES = 0                    # Min number of compute nodes in cluster\n",
    "MAX_NODES = 3                    # Max number of compute nodes in cluster\n",
    "\n",
    "# Set up the compute target for this experiment\n",
    "try:\n",
    "    compute_target = AmlCompute(ws, CT_NAME)\n",
    "    print(\"Found existing compute target.\")\n",
    "except ComputeTargetException:\n",
    "    print(\"Creating new compute target\")\n",
    "    provisioning_config = AmlCompute.provisioning_configuration(vm_size=VM_SIZE, min_nodes=MIN_NODES, max_nodes=MAX_NODES)    \n",
    "    compute_target = ComputeTarget.create(ws, CT_NAME, provisioning_config)  # Create the compute cluster\n",
    "    \n",
    "    # Wait for cluster to be provisioned\n",
    "    compute_target.wait_for_completion(show_output=True, min_node_count=None, timeout_in_minutes=20) \n",
    "    \n",
    "print(\"Azure Machine Learning Compute attached\")\n",
    "print(\"Compute targets: \", ws.compute_targets)\n",
    "compute_target = ws.compute_targets[CT_NAME]"
   ]
  },
  {
   "cell_type": "markdown",
   "metadata": {},
   "source": [
    "### Define pipeline and submit experiment.\n",
    "Define the steps of an Azure machine learning pipeline. Create an Azure Experiment that will run our pipeline. Submit the experiment to the execution environment."
   ]
  },
  {
   "cell_type": "code",
   "execution_count": null,
   "metadata": {
    "tags": []
   },
   "outputs": [],
   "source": [
    "# Define some constants\n",
    "TEST_DAYS = 183                # Test trained model on most recent half year\n",
    "FORECAST_DAYS = 20 * 365 + 5    # Obtain forecast for the next 20 years\n",
    "PREPROCESS_STRATEGY = 'complete'  # Set to 'complete' to loop over all consumption data. Set to 'quick' to preprocess newly uploaded data and append to old preprocessed data.\n",
    "EXPERIMENT_NAME = 'Train-Forecast-Experiment-v2'\n",
    "\n",
    "# Define preprocessing step in the ML pipeline\n",
    "step1 = PythonScriptStep(name=\"preprocess_step\",\n",
    "                         script_name=\"azure/preprocess_step/preprocess_step.py\",\n",
    "                         arguments=[\"--newrawdatadir\", new_raw_data_dr, \"--intermediaterawdatasets\", inter_raw_datasets_dr,\n",
    "                                    \"--rawmergeddataset\", merged_raw_datasets_dr, \"--preprocessedoutputdir\", preprocessed_data_dr, \"--preprocessedintermediatedir\", preprocessed_data_pd],\n",
    "                         inputs=[new_raw_data_dr, inter_raw_datasets_dr, merged_raw_datasets_dr, preprocessed_data_dr],\n",
    "                         outputs=[preprocessed_data_pd],\n",
    "                         compute_target=compute_target, \n",
    "                         source_directory=\"./../\",\n",
    "                         runconfig=runconfig,\n",
    "                         params={\"PREPROCESS_STRATEGY\": PREPROCESS_STRATEGY},\n",
    "                         allow_reuse=False)\n",
    "\n",
    "# Define interpretability step in the ML pipeline\n",
    "step2 = PythonScriptStep(name=\"train_step\",\n",
    "                         script_name=\"azure/train_step/train_step.py\",\n",
    "                         arguments=[\"--preprocessedintermediatedir\", preprocessed_data_pd, \"--trainoutputdir\", outputs_dr, \"--preprocessedoutputdir\", preprocessed_data_dr],\n",
    "                         inputs=[preprocessed_data_pd, outputs_dr, preprocessed_data_dr],\n",
    "                         outputs=[],\n",
    "                         compute_target=compute_target, \n",
    "                         source_directory=\"./../\",\n",
    "                         runconfig=runconfig,\n",
    "                         params={\"TEST_DAYS\": TEST_DAYS, \"FORECAST_DAYS\": FORECAST_DAYS},\n",
    "                         allow_reuse=False)\n",
    "\n",
    "# Construct the ML pipeline from the steps\n",
    "steps = [step1, step2]\n",
    "single_train_pipeline = Pipeline(workspace=ws, steps=steps)\n",
    "single_train_pipeline.validate()\n",
    "\n",
    "# Define a new experiment and submit a new pipeline run to the compute target.\n",
    "experiment = Experiment(workspace=ws, name=EXPERIMENT_NAME)\n",
    "run = experiment.submit(single_train_pipeline, regenerate_outputs=False)\n",
    "print(\"Pipeline is submitted for execution.\")\n",
    "\n",
    "# Move AML ignore file back to original folder\n",
    "aml_ignore_path = shutil.move(aml_ignore_path, './.amlignore') \n",
    "gitignore_path = shutil.move(gitignore_path, './../.gitignore') "
   ]
  },
  {
   "cell_type": "markdown",
   "metadata": {},
   "source": [
    "### Publish the pipeline\n",
    "Wait for the pipeline run to finish. Then publish the pipeline. The pipeline will be visible as an endpoint in the Pipelines tab in the workspace on Azure Machine Learning studio. Delete the training compute cluster to prevent further cost."
   ]
  },
  {
   "cell_type": "code",
   "execution_count": null,
   "metadata": {},
   "outputs": [],
   "source": [
    "# Wait for the pipeline to finish running.\n",
    "run.wait_for_completion()\n",
    "\n",
    "# Publish the pipeline.\n",
    "published_pipeline = run.publish_pipeline(\n",
    "     name=\"Water Demand Forecasting Training Pipeline\",\n",
    "     description=\"Azure ML Pipeline that trains a Prophet model for water demand and produces a forecast.\",\n",
    "     version=\"1.1\")"
   ]
  },
  {
   "cell_type": "markdown",
   "metadata": {},
   "source": [
    "### Delete the compute target\n",
    "Delete the training compute cluster to prevent further cost."
   ]
  },
  {
   "cell_type": "code",
   "execution_count": null,
   "metadata": {},
   "outputs": [],
   "source": [
    "# Wait for the pipeline to finish running.\n",
    "run.wait_for_completion()\n",
    "\n",
    "# Delete compute cluster to avoid extra charges\n",
    "compute_target.delete()"
   ]
  }
 ],
 "metadata": {
  "kernelspec": {
   "display_name": "Python 3.8 - AzureML",
   "language": "python",
   "name": "python38-azureml"
  },
  "language_info": {
   "codemirror_mode": {
    "name": "ipython",
    "version": 3
   },
   "file_extension": ".py",
   "mimetype": "text/x-python",
   "name": "python",
   "nbconvert_exporter": "python",
   "pygments_lexer": "ipython3",
   "version": "3.9.19"
  },
  "microsoft": {
   "ms_spell_check": {
    "ms_spell_check_language": "en"
   }
  },
  "nteract": {
   "version": "nteract-front-end@1.0.0"
  }
 },
 "nbformat": 4,
 "nbformat_minor": 4
}
